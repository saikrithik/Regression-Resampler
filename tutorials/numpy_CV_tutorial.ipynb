{
 "cells": [
  {
   "cell_type": "markdown",
   "metadata": {},
   "source": [
    "### Get all imports"
   ]
  },
  {
   "cell_type": "code",
   "execution_count": 4,
   "metadata": {},
   "outputs": [],
   "source": [
    "import pandas as pd\n",
    "import numpy as np\n",
    "from sklearn.preprocessing import LabelEncoder\n",
    "from sklearn.model_selection import KFold, StratifiedKFold\n",
    "from lightgbm import LGBMRegressor\n",
    "from imblearn.over_sampling import SMOTE\n",
    "from collections import Counter\n",
    "from reg_resampler import resampler\n",
    "from sklearn.metrics import mean_squared_log_error\n",
    "import warnings\n",
    "warnings.filterwarnings(\"ignore\")"
   ]
  },
  {
   "cell_type": "markdown",
   "metadata": {},
   "source": [
    "### Read and transform data"
   ]
  },
  {
   "cell_type": "code",
   "execution_count": 2,
   "metadata": {
    "scrolled": true
   },
   "outputs": [
    {
     "data": {
      "text/html": [
       "<div>\n",
       "<style scoped>\n",
       "    .dataframe tbody tr th:only-of-type {\n",
       "        vertical-align: middle;\n",
       "    }\n",
       "\n",
       "    .dataframe tbody tr th {\n",
       "        vertical-align: top;\n",
       "    }\n",
       "\n",
       "    .dataframe thead th {\n",
       "        text-align: right;\n",
       "    }\n",
       "</style>\n",
       "<table border=\"1\" class=\"dataframe\">\n",
       "  <thead>\n",
       "    <tr style=\"text-align: right;\">\n",
       "      <th></th>\n",
       "      <th>Product</th>\n",
       "      <th>Product_Brand</th>\n",
       "      <th>Item_Category</th>\n",
       "      <th>Subcategory_1</th>\n",
       "      <th>Subcategory_2</th>\n",
       "      <th>Item_Rating</th>\n",
       "      <th>Selling_Price</th>\n",
       "    </tr>\n",
       "  </thead>\n",
       "  <tbody>\n",
       "    <tr>\n",
       "      <th>0</th>\n",
       "      <td>791</td>\n",
       "      <td>862</td>\n",
       "      <td>7</td>\n",
       "      <td>10</td>\n",
       "      <td>137</td>\n",
       "      <td>4.3</td>\n",
       "      <td>291</td>\n",
       "    </tr>\n",
       "    <tr>\n",
       "      <th>1</th>\n",
       "      <td>760</td>\n",
       "      <td>670</td>\n",
       "      <td>10</td>\n",
       "      <td>127</td>\n",
       "      <td>329</td>\n",
       "      <td>3.1</td>\n",
       "      <td>897</td>\n",
       "    </tr>\n",
       "    <tr>\n",
       "      <th>2</th>\n",
       "      <td>1746</td>\n",
       "      <td>280</td>\n",
       "      <td>29</td>\n",
       "      <td>112</td>\n",
       "      <td>101</td>\n",
       "      <td>3.5</td>\n",
       "      <td>792</td>\n",
       "    </tr>\n",
       "    <tr>\n",
       "      <th>3</th>\n",
       "      <td>1214</td>\n",
       "      <td>670</td>\n",
       "      <td>8</td>\n",
       "      <td>37</td>\n",
       "      <td>134</td>\n",
       "      <td>4.0</td>\n",
       "      <td>837</td>\n",
       "    </tr>\n",
       "    <tr>\n",
       "      <th>4</th>\n",
       "      <td>2104</td>\n",
       "      <td>670</td>\n",
       "      <td>10</td>\n",
       "      <td>80</td>\n",
       "      <td>296</td>\n",
       "      <td>4.3</td>\n",
       "      <td>470</td>\n",
       "    </tr>\n",
       "  </tbody>\n",
       "</table>\n",
       "</div>"
      ],
      "text/plain": [
       "   Product  Product_Brand  Item_Category  Subcategory_1  Subcategory_2  \\\n",
       "0      791            862              7             10            137   \n",
       "1      760            670             10            127            329   \n",
       "2     1746            280             29            112            101   \n",
       "3     1214            670              8             37            134   \n",
       "4     2104            670             10             80            296   \n",
       "\n",
       "   Item_Rating  Selling_Price  \n",
       "0          4.3            291  \n",
       "1          3.1            897  \n",
       "2          3.5            792  \n",
       "3          4.0            837  \n",
       "4          4.3            470  "
      ]
     },
     "execution_count": 2,
     "metadata": {},
     "output_type": "execute_result"
    }
   ],
   "source": [
    "df_train = pd.read_csv(\"Train.csv\")\n",
    "\n",
    "lone = LabelEncoder()\n",
    "df_train[\"Product\"] = lone.fit_transform(df_train[\"Product\"])\n",
    "df_train[\"Product_Brand\"] = lone.fit_transform(df_train[\"Product_Brand\"])\n",
    "df_train[\"Item_Category\"] = lone.fit_transform(df_train[\"Item_Category\"])\n",
    "df_train[\"Subcategory_1\"] = lone.fit_transform(df_train[\"Subcategory_1\"])\n",
    "df_train[\"Subcategory_2\"] = lone.fit_transform(df_train[\"Subcategory_2\"])\n",
    "df_train = df_train.drop(\"Date\", axis=1)\n",
    "\n",
    "df_train.head()"
   ]
  },
  {
   "cell_type": "markdown",
   "metadata": {},
   "source": [
    "### Perform K-Fold"
   ]
  },
  {
   "cell_type": "code",
   "execution_count": 3,
   "metadata": {
    "scrolled": true
   },
   "outputs": [
    {
     "name": "stdout",
     "output_type": "stream",
     "text": [
      "INFO: Class 2 has been merged into Class 1 due to low number of samples\n",
      "INFO: Class 3 has been merged into Class 1 due to low number of samples\n",
      "INFO: Class 4 has been merged into Class 1 due to low number of samples\n",
      "\n",
      "Class Distribution:\n",
      "-------------------\n",
      "0: 2350\n",
      "1: 102\n",
      "\n",
      "0.7399142441762613\n",
      "0.7027917932595997\n",
      "0.7526839471836929\n",
      "0.6559476353228568\n",
      "0.728284943818841\n",
      "\n",
      "Average:  0.7159245127522503\n"
     ]
    }
   ],
   "source": [
    "# Initialize the resampler object\n",
    "rs = resampler()\n",
    "\n",
    "# Generate classes\n",
    "Y_classes = rs.fit(df_train.values, target=-1, bins=5, verbose=2)\n",
    "# Create the actual target variable\n",
    "Y = df_train[\"Selling_Price\"]\n",
    "\n",
    "# Perform K-Fold\n",
    "kfold, scores = KFold(n_splits=5, shuffle=True, random_state=27), list()\n",
    "for train, test in kfold.split(df_train.values):\n",
    "    # Split into train and test\n",
    "    x_train, y_train = df_train.values[train], Y_classes[train]\n",
    "    x_test, y_test = df_train.values[test], Y.values[test]\n",
    "    \n",
    "    # Remove the target variable from x_test\n",
    "    x_test = x_test[:,:-1]\n",
    "    \n",
    "    # Get the class distriubtion for perfoming relative sampling in the next line\n",
    "    xp = Counter(y_train)\n",
    "    # Your favourite oversampler\n",
    "    smote = SMOTE(random_state=27, sampling_strategy={0:int(xp[0]*1.2), 1: int(xp[1]*2.0)})\n",
    "    # Generate the over-sampled data\n",
    "    x_train, y_train = rs.resample(smote, x_train, y_train)\n",
    "    \n",
    "    # Fit the model\n",
    "    model = LGBMRegressor(random_state=27)\n",
    "    model.fit(x_train, np.log(y_train))\n",
    "    preds = np.exp(model.predict(x_test))\n",
    "    \n",
    "    # Check the score\n",
    "    score = np.sqrt(mean_squared_log_error(y_test, preds))\n",
    "    print(score)\n",
    "    scores.append(score)\n",
    "print(\"\\nAverage: \", sum(scores)/len(scores))"
   ]
  },
  {
   "cell_type": "markdown",
   "metadata": {},
   "source": [
    "### Perform Stratified K-Fold"
   ]
  },
  {
   "cell_type": "code",
   "execution_count": 5,
   "metadata": {},
   "outputs": [
    {
     "name": "stdout",
     "output_type": "stream",
     "text": [
      "INFO: Class 2 has been merged into Class 1 due to low number of samples\n",
      "INFO: Class 3 has been merged into Class 1 due to low number of samples\n",
      "INFO: Class 4 has been merged into Class 1 due to low number of samples\n",
      "\n",
      "Class Distribution:\n",
      "-------------------\n",
      "0: 2350\n",
      "1: 102\n",
      "\n",
      "0.681783831084692\n",
      "0.6997998885546327\n",
      "0.7386469827713933\n",
      "0.6996689571871663\n",
      "0.7698032886366912\n",
      "\n",
      "Average:  0.7179405896469151\n"
     ]
    }
   ],
   "source": [
    "# Initialize the resampler object\n",
    "rs = resampler()\n",
    "\n",
    "# Generate classes\n",
    "Y_classes = rs.fit(df_train.values, target=-1, bins=5, verbose=2)\n",
    "# Create the actual target variable\n",
    "Y = df_train[\"Selling_Price\"]\n",
    "\n",
    "# Perform K-Fold\n",
    "kfold, scores = StratifiedKFold(n_splits=5, shuffle=True, random_state=27), list()\n",
    "for train, test in kfold.split(df_train.values, Y_classes):\n",
    "    # Split into train and test\n",
    "    x_train, y_train = df_train.values[train], Y_classes[train]\n",
    "    x_test, y_test = df_train.values[test], Y.values[test]\n",
    "    \n",
    "    # Remove the target variable from x_test\n",
    "    x_test = x_test[:,:-1]\n",
    "    \n",
    "    # Get the class distriubtion for perfoming relative sampling in the next line\n",
    "    xp = Counter(y_train)\n",
    "    # Your favourite oversampler\n",
    "    smote = SMOTE(random_state=27, sampling_strategy={0:int(xp[0]*1.2), 1: int(xp[1]*2.0)})\n",
    "    # Generate the over-sampled data\n",
    "    x_train, y_train = rs.resample(smote, x_train, y_train)\n",
    "    \n",
    "    # Fit the model\n",
    "    model = LGBMRegressor(random_state=27)\n",
    "    model.fit(x_train, np.log(y_train))\n",
    "    preds = np.exp(model.predict(x_test))\n",
    "    \n",
    "    # Check the score\n",
    "    score = np.sqrt(mean_squared_log_error(y_test, preds))\n",
    "    print(score)\n",
    "    scores.append(score)\n",
    "print(\"\\nAverage: \", sum(scores)/len(scores))"
   ]
  },
  {
   "cell_type": "code",
   "execution_count": null,
   "metadata": {},
   "outputs": [],
   "source": []
  }
 ],
 "metadata": {
  "kernelspec": {
   "display_name": "Python 3",
   "language": "python",
   "name": "python3"
  },
  "language_info": {
   "codemirror_mode": {
    "name": "ipython",
    "version": 3
   },
   "file_extension": ".py",
   "mimetype": "text/x-python",
   "name": "python",
   "nbconvert_exporter": "python",
   "pygments_lexer": "ipython3",
   "version": "3.7.4"
  }
 },
 "nbformat": 4,
 "nbformat_minor": 4
}
